{
  "nbformat": 4,
  "nbformat_minor": 0,
  "metadata": {
    "colab": {
      "provenance": []
    },
    "kernelspec": {
      "name": "python3",
      "display_name": "Python 3"
    },
    "language_info": {
      "name": "python"
    }
  },
  "cells": [
    {
      "cell_type": "markdown",
      "source": [
        "# OPERADORES ARITMÉTICOS"
      ],
      "metadata": {
        "id": "mn3vtyFMVgLB"
      }
    },
    {
      "cell_type": "code",
      "execution_count": null,
      "metadata": {
        "colab": {
          "base_uri": "https://localhost:8080/"
        },
        "id": "3iYb5vxxVQjz",
        "outputId": "143e4354-3d8c-47d4-9f2b-18b4abaf1181"
      },
      "outputs": [
        {
          "output_type": "execute_result",
          "data": {
            "text/plain": [
              "4"
            ]
          },
          "metadata": {},
          "execution_count": 2
        }
      ],
      "source": [
        "# Adição\n",
        "2 + 2"
      ]
    },
    {
      "cell_type": "code",
      "source": [
        "# Subtração\n",
        "2 - 1"
      ],
      "metadata": {
        "colab": {
          "base_uri": "https://localhost:8080/"
        },
        "id": "w5sHqLPVVz_d",
        "outputId": "e13c9299-b274-499c-e848-959c108499f9"
      },
      "execution_count": null,
      "outputs": [
        {
          "output_type": "execute_result",
          "data": {
            "text/plain": [
              "1"
            ]
          },
          "metadata": {},
          "execution_count": 3
        }
      ]
    },
    {
      "cell_type": "code",
      "source": [
        "# Multiplicação\n",
        "5 * 2"
      ],
      "metadata": {
        "colab": {
          "base_uri": "https://localhost:8080/"
        },
        "id": "U_bCK2CqV-2o",
        "outputId": "44631a1b-d5b0-4162-d0a9-b8c4d82454a9"
      },
      "execution_count": null,
      "outputs": [
        {
          "output_type": "execute_result",
          "data": {
            "text/plain": [
              "10"
            ]
          },
          "metadata": {},
          "execution_count": 5
        }
      ]
    },
    {
      "cell_type": "code",
      "source": [
        "# Divisão\n",
        "4 / 2"
      ],
      "metadata": {
        "colab": {
          "base_uri": "https://localhost:8080/"
        },
        "id": "rhilKt3TV3Wc",
        "outputId": "82e97a65-dc44-4854-fb6a-a2a8b028ba17"
      },
      "execution_count": null,
      "outputs": [
        {
          "output_type": "execute_result",
          "data": {
            "text/plain": [
              "2.0"
            ]
          },
          "metadata": {},
          "execution_count": 8
        }
      ]
    },
    {
      "cell_type": "code",
      "source": [
        "# Divisão Inteira (Não retorna número real, apenas inteiro)\n",
        "4 // 2"
      ],
      "metadata": {
        "colab": {
          "base_uri": "https://localhost:8080/"
        },
        "id": "uo-FAqZ8WGDI",
        "outputId": "f0f16658-c653-4fe8-cd53-98de8baad2fa"
      },
      "execution_count": null,
      "outputs": [
        {
          "output_type": "execute_result",
          "data": {
            "text/plain": [
              "2"
            ]
          },
          "metadata": {},
          "execution_count": 9
        }
      ]
    },
    {
      "cell_type": "code",
      "source": [
        "# Resto da Divisão\n",
        "4 % 2"
      ],
      "metadata": {
        "colab": {
          "base_uri": "https://localhost:8080/"
        },
        "id": "New5WbkBWj44",
        "outputId": "ffeb1f93-0728-4b7f-cfbb-c03a787cb8b2"
      },
      "execution_count": null,
      "outputs": [
        {
          "output_type": "execute_result",
          "data": {
            "text/plain": [
              "0"
            ]
          },
          "metadata": {},
          "execution_count": 10
        }
      ]
    },
    {
      "cell_type": "code",
      "source": [
        "# Potenciação\n",
        "10 ** 2"
      ],
      "metadata": {
        "colab": {
          "base_uri": "https://localhost:8080/"
        },
        "id": "8F7FveGPWrLH",
        "outputId": "dc5236d2-85fd-4abe-9535-a87e87fcf330"
      },
      "execution_count": null,
      "outputs": [
        {
          "output_type": "execute_result",
          "data": {
            "text/plain": [
              "100"
            ]
          },
          "metadata": {},
          "execution_count": 12
        }
      ]
    },
    {
      "cell_type": "markdown",
      "source": [
        "# OPERADORES RELACIONAIS"
      ],
      "metadata": {
        "id": "DJlPUqyVXOWQ"
      }
    },
    {
      "cell_type": "code",
      "source": [
        "# Maior\n",
        "2 > 1"
      ],
      "metadata": {
        "colab": {
          "base_uri": "https://localhost:8080/"
        },
        "id": "hddValpzXXmH",
        "outputId": "8dcce038-2242-49b4-fda9-d8620d6f263d"
      },
      "execution_count": null,
      "outputs": [
        {
          "output_type": "execute_result",
          "data": {
            "text/plain": [
              "True"
            ]
          },
          "metadata": {},
          "execution_count": 14
        }
      ]
    },
    {
      "cell_type": "code",
      "source": [
        "# Menor\n",
        "2 < 1"
      ],
      "metadata": {
        "colab": {
          "base_uri": "https://localhost:8080/"
        },
        "id": "q800pbAsXd0X",
        "outputId": "b40f8513-5535-4520-be30-6f7ca63a3844"
      },
      "execution_count": null,
      "outputs": [
        {
          "output_type": "execute_result",
          "data": {
            "text/plain": [
              "False"
            ]
          },
          "metadata": {},
          "execution_count": 15
        }
      ]
    },
    {
      "cell_type": "code",
      "source": [
        "# Maior ou igual\n",
        "2 >= 1"
      ],
      "metadata": {
        "colab": {
          "base_uri": "https://localhost:8080/"
        },
        "id": "dxwmaxvrXgxH",
        "outputId": "cee9b50a-350f-41ab-f07a-03511c34f71e"
      },
      "execution_count": null,
      "outputs": [
        {
          "output_type": "execute_result",
          "data": {
            "text/plain": [
              "True"
            ]
          },
          "metadata": {},
          "execution_count": 16
        }
      ]
    },
    {
      "cell_type": "code",
      "source": [
        "#Menor ou igual\n",
        "2 <= 2"
      ],
      "metadata": {
        "colab": {
          "base_uri": "https://localhost:8080/"
        },
        "id": "fBBjtmumXlTn",
        "outputId": "00f3c611-7e31-44a6-ee9f-6f7e2fc42ea4"
      },
      "execution_count": null,
      "outputs": [
        {
          "output_type": "execute_result",
          "data": {
            "text/plain": [
              "True"
            ]
          },
          "metadata": {},
          "execution_count": 17
        }
      ]
    },
    {
      "cell_type": "code",
      "source": [
        "# Igual\n",
        "7 == 8"
      ],
      "metadata": {
        "colab": {
          "base_uri": "https://localhost:8080/"
        },
        "id": "6w7SD5WcXrh5",
        "outputId": "757b6d28-67e9-41fb-f6d5-3ff2186217a0"
      },
      "execution_count": null,
      "outputs": [
        {
          "output_type": "execute_result",
          "data": {
            "text/plain": [
              "False"
            ]
          },
          "metadata": {},
          "execution_count": 18
        }
      ]
    },
    {
      "cell_type": "code",
      "source": [
        "# Diferente\n",
        "7 != 7"
      ],
      "metadata": {
        "colab": {
          "base_uri": "https://localhost:8080/"
        },
        "id": "7_wax4eNX1gX",
        "outputId": "43a9bc59-e883-481b-95d6-1d2345dd138f"
      },
      "execution_count": null,
      "outputs": [
        {
          "output_type": "execute_result",
          "data": {
            "text/plain": [
              "False"
            ]
          },
          "metadata": {},
          "execution_count": 19
        }
      ]
    },
    {
      "cell_type": "markdown",
      "source": [
        "# OPERADORES LÓGICOS\n",
        "\n",
        "## • and\n",
        "## • or\n",
        "## • not"
      ],
      "metadata": {
        "id": "Ni1IDVQ_YWqb"
      }
    },
    {
      "cell_type": "markdown",
      "source": [
        "## TABELA VERDADE\n",
        "\n",
        "## And"
      ],
      "metadata": {
        "id": "McEalPqGZrTX"
      }
    },
    {
      "cell_type": "code",
      "source": [
        "print (10 > 5 and 10 > 2)       # V and V - V\n",
        "print (10 > 8 and 10 < 5)       # V and F - F\n",
        "print (10 > 11 and 11 < 12)     # F and V - F\n",
        "print (10 > 14 and 10 < 2)      # F and F - F"
      ],
      "metadata": {
        "id": "LDKZsW8tYa1B"
      },
      "execution_count": null,
      "outputs": []
    },
    {
      "cell_type": "markdown",
      "source": [
        "## Or"
      ],
      "metadata": {
        "id": "MJnCxJNcbK5q"
      }
    },
    {
      "cell_type": "code",
      "source": [
        "print (10 > 5 or 5 < 8)        # V or V - V\n",
        "print (10 > 4 or 5 < 2)        # V or F - V\n",
        "print (10 > 14 or 10 < 12)     # F or V - V\n",
        "print (10 > 20 or 10 < 2)      # F or F - F"
      ],
      "metadata": {
        "id": "_r6jz6_rbJn2"
      },
      "execution_count": null,
      "outputs": []
    },
    {
      "cell_type": "markdown",
      "source": [
        "## Not"
      ],
      "metadata": {
        "id": "czO0I3jKfJiu"
      }
    },
    {
      "cell_type": "code",
      "source": [
        "not 10 > 5                    # V - F"
      ],
      "metadata": {
        "colab": {
          "base_uri": "https://localhost:8080/"
        },
        "id": "47PKd1F7fMAq",
        "outputId": "fd8e11b1-37c6-4e1f-8fbc-dad2b9037680"
      },
      "execution_count": null,
      "outputs": [
        {
          "output_type": "execute_result",
          "data": {
            "text/plain": [
              "False"
            ]
          },
          "metadata": {},
          "execution_count": 20
        }
      ]
    },
    {
      "cell_type": "code",
      "source": [
        "not 10 < 5                    # F - V"
      ],
      "metadata": {
        "colab": {
          "base_uri": "https://localhost:8080/"
        },
        "id": "gmP-jPW3f8ie",
        "outputId": "abcd51ed-4f5a-420c-b111-7dc25ff3c27d"
      },
      "execution_count": null,
      "outputs": [
        {
          "output_type": "execute_result",
          "data": {
            "text/plain": [
              "True"
            ]
          },
          "metadata": {},
          "execution_count": 21
        }
      ]
    },
    {
      "cell_type": "code",
      "source": [
        "valor1 = 30\n",
        "valor2 = 20\n",
        "valor3 = \"Brasil\"\n",
        "valor4 = \"Espanha\""
      ],
      "metadata": {
        "id": "iMqQccQPgB30"
      },
      "execution_count": null,
      "outputs": []
    },
    {
      "cell_type": "code",
      "source": [
        "if valor1 <= valor2:\n",
        "    print(\"O valor 1 é menor ou igual ao valor 2\")\n",
        "    soma = valor1 + valor2\n",
        "    print(soma)\n",
        "else:\n",
        "    print(\"O valor 1 é maior que o valor 2\")"
      ],
      "metadata": {
        "colab": {
          "base_uri": "https://localhost:8080/"
        },
        "id": "6-TVtybL6AVq",
        "outputId": "cbe7869e-e7e5-48c6-ca6c-d5c39431012d"
      },
      "execution_count": null,
      "outputs": [
        {
          "output_type": "stream",
          "name": "stdout",
          "text": [
            "O valor 1 é maior que o valor 2\n"
          ]
        }
      ]
    },
    {
      "cell_type": "code",
      "source": [
        "if valor3 != valor4:\n",
        "    print(\"O valor 3 é \"+valor3+\", ou seja é diferente do valor 4, que é \"+valor4)\n",
        "else:\n",
        "    print(\"Os valores são iguais, o valor é \"+valor3)"
      ],
      "metadata": {
        "colab": {
          "base_uri": "https://localhost:8080/"
        },
        "id": "53KXQDye6sgT",
        "outputId": "6d813438-5185-4627-a376-f4b5172bc7b4"
      },
      "execution_count": null,
      "outputs": [
        {
          "output_type": "stream",
          "name": "stdout",
          "text": [
            "Os valores são iguais, o valor é Brasil\n"
          ]
        }
      ]
    },
    {
      "cell_type": "code",
      "source": [],
      "metadata": {
        "id": "pjTN2tAZ8qBD"
      },
      "execution_count": null,
      "outputs": []
    }
  ]
}